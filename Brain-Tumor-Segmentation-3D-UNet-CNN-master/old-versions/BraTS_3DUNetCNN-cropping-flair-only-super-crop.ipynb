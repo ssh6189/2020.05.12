{
 "cells": [
  {
   "cell_type": "markdown",
   "metadata": {},
   "source": [
    "### Build model:"
   ]
  },
  {
   "cell_type": "markdown",
   "metadata": {},
   "source": [
    "### Reducing memory load:\n",
    "- crop images\n",
    "- reduce batch size\n",
    "- reduce number of channels (have 4 available)\n",
    "- reduce number of base filters\n",
    "- reduce depth"
   ]
  },
  {
   "cell_type": "markdown",
   "metadata": {},
   "source": [
    "### working configurations:\n",
    "    \n",
    "depth = 4  \n",
    "filter_num = 16  \n",
    "model = isensee2017_model(input_shape=(1, 144,144,144), n_base_filters=filter_num, depth=depth, dropout_rate=0.3,\n",
    "                      n_segmentation_levels=3, n_labels=4, optimizer=Adam, initial_learning_rate=5e-4,\n",
    "                      loss_function=weighted_dice_coefficient_loss, activation_name=\"sigmoid\")"
   ]
  },
  {
   "cell_type": "code",
   "execution_count": 1,
   "metadata": {
    "collapsed": true
   },
   "outputs": [],
   "source": [
    "import nibabel as nib"
   ]
  },
  {
   "cell_type": "code",
   "execution_count": 2,
   "metadata": {
    "ExecuteTime": {
     "end_time": "2018-06-16T15:26:01.192753Z",
     "start_time": "2018-06-16T15:25:59.659294Z"
    },
    "collapsed": false
   },
   "outputs": [
    {
     "name": "stderr",
     "output_type": "stream",
     "text": [
      "Using TensorFlow backend.\n"
     ]
    }
   ],
   "source": [
    "from functools import partial\n",
    "\n",
    "from keras.layers import Input, LeakyReLU, Add, UpSampling3D, Activation, SpatialDropout3D\n",
    "from keras.engine import Model\n",
    "from keras.optimizers import Adam\n",
    "\n",
    "import numpy as np\n",
    "from keras import backend as K\n",
    "from keras.engine import Input, Model\n",
    "from keras.layers import Conv3D, MaxPooling3D, UpSampling3D, Activation, BatchNormalization, PReLU, Deconvolution3D\n",
    "from keras.optimizers import Adam\n",
    "\n",
    "# K.set_image_dim_ordering('th')\n",
    "# K.set_image_dim_ordering('tf')\n",
    "K.set_image_data_format('channels_first')\n",
    "\n",
    "Keras_backend = K.backend()\n",
    "if K=='tensorflow':\n",
    "    K.set_image_dim_ordering('tf')\n",
    "else:\n",
    "    K.set_image_dim_ordering('th')\n",
    "\n",
    "try:\n",
    "    from keras.engine import merge\n",
    "except ImportError:\n",
    "    from keras.layers.merge import concatenate\n",
    "    \n",
    "def dice_coefficient(y_true, y_pred, smooth=1.):\n",
    "    y_true_f = K.flatten(y_true)\n",
    "    y_pred_f = K.flatten(y_pred)\n",
    "    intersection = K.sum(y_true_f * y_pred_f)\n",
    "    return (2. * intersection + smooth) / (K.sum(y_true_f) + K.sum(y_pred_f) + smooth)\n",
    "\n",
    "\n",
    "def dice_coefficient_loss(y_true, y_pred):\n",
    "    return -dice_coefficient(y_true, y_pred)\n",
    "\n",
    "\n",
    "def weighted_dice_coefficient(y_true, y_pred, axis=(-3, -2, -1), smooth=0.00001):\n",
    "    \"\"\"\n",
    "    Weighted dice coefficient. Default axis assumes a \"channels first\" data structure\n",
    "    :param smooth:\n",
    "    :param y_true:\n",
    "    :param y_pred:\n",
    "    :param axis:\n",
    "    :return:\n",
    "    \"\"\"\n",
    "    return K.mean(2. * (K.sum(y_true * y_pred,\n",
    "                              axis=axis) + smooth/2)/(K.sum(y_true,\n",
    "                                                            axis=axis) + K.sum(y_pred,\n",
    "                                                                               axis=axis) + smooth))\n",
    "\n",
    "\n",
    "def weighted_dice_coefficient_loss(y_true, y_pred):\n",
    "    return -weighted_dice_coefficient(y_true, y_pred)\n",
    "\n",
    "\n",
    "def label_wise_dice_coefficient(y_true, y_pred, label_index):\n",
    "    return dice_coefficient(y_true[:, label_index], y_pred[:, label_index])\n",
    "\n",
    "\n",
    "def get_label_dice_coefficient_function(label_index):\n",
    "    f = partial(label_wise_dice_coefficient, label_index=label_index)\n",
    "    f.__setattr__('__name__', 'label_{0}_dice_coef'.format(label_index))\n",
    "    return f\n",
    "\n",
    "\n",
    "dice_coef = dice_coefficient\n",
    "dice_coef_loss = dice_coefficient_loss\n",
    "\n",
    "\n",
    "\n",
    "\n",
    "def unet_model_3d(input_shape, pool_size=(2, 2, 2), n_labels=1, initial_learning_rate=0.00001, deconvolution=False,\n",
    "                  depth=4, n_base_filters=32, include_label_wise_dice_coefficients=False, metrics=dice_coefficient,\n",
    "                  batch_normalization=False, activation_name=\"sigmoid\"):\n",
    "    \"\"\"\n",
    "    Builds the 3D UNet Keras model.f\n",
    "    :param metrics: List metrics to be calculated during model training (default is dice coefficient).\n",
    "    :param include_label_wise_dice_coefficients: If True and n_labels is greater than 1, model will report the dice\n",
    "    coefficient for each label as metric.\n",
    "    :param n_base_filters: The number of filters that the first layer in the convolution network will have. Following\n",
    "    layers will contain a multiple of this number. Lowering this number will likely reduce the amount of memory required\n",
    "    to train the model.\n",
    "    :param depth: indicates the depth of the U-shape for the model. The greater the depth, the more max pooling\n",
    "    layers will be added to the model. Lowering the depth may reduce the amount of memory required for training.\n",
    "    :param input_shape: Shape of the input data (n_chanels, x_size, y_size, z_size). The x, y, and z sizes must be\n",
    "    divisible by the pool size to the power of the depth of the UNet, that is pool_size^depth.\n",
    "    :param pool_size: Pool size for the max pooling operations.\n",
    "    :param n_labels: Number of binary labels that the model is learning.\n",
    "    :param initial_learning_rate: Initial learning rate for the model. This will be decayed during training.\n",
    "    :param deconvolution: If set to True, will use transpose convolution(deconvolution) instead of up-sampling. This\n",
    "    increases the amount memory required during training.\n",
    "    :return: Untrained 3D UNet Model\n",
    "    \"\"\"\n",
    "    inputs = Input(input_shape)\n",
    "    current_layer = inputs\n",
    "    levels = list()\n",
    "\n",
    "    # add levels with max pooling\n",
    "    for layer_depth in range(depth):\n",
    "        layer1 = create_convolution_block(input_layer=current_layer, n_filters=n_base_filters*(2**layer_depth),\n",
    "                                          batch_normalization=batch_normalization)\n",
    "        layer2 = create_convolution_block(input_layer=layer1, n_filters=n_base_filters*(2**layer_depth)*2,\n",
    "                                          batch_normalization=batch_normalization)\n",
    "        if layer_depth < depth - 1:\n",
    "            current_layer = MaxPooling3D(pool_size=pool_size)(layer2)\n",
    "            levels.append([layer1, layer2, current_layer])\n",
    "        else:\n",
    "            current_layer = layer2\n",
    "            levels.append([layer1, layer2])\n",
    "\n",
    "    # add levels with up-convolution or up-sampling\n",
    "    for layer_depth in range(depth-2, -1, -1):\n",
    "        up_convolution = get_up_convolution(pool_size=pool_size, deconvolution=deconvolution,\n",
    "                                            n_filters=current_layer._keras_shape[1])(current_layer)\n",
    "        concat = concatenate([up_convolution, levels[layer_depth][1]], axis=1)\n",
    "        current_layer = create_convolution_block(n_filters=levels[layer_depth][1]._keras_shape[1],\n",
    "                                                 input_layer=concat, batch_normalization=batch_normalization)\n",
    "        current_layer = create_convolution_block(n_filters=levels[layer_depth][1]._keras_shape[1],\n",
    "                                                 input_layer=current_layer,\n",
    "                                                 batch_normalization=batch_normalization)\n",
    "\n",
    "    final_convolution = Conv3D(n_labels, (1, 1, 1))(current_layer)\n",
    "    act = Activation(activation_name)(final_convolution)\n",
    "    model = Model(inputs=inputs, outputs=act)\n",
    "\n",
    "    if not isinstance(metrics, list):\n",
    "        metrics = [metrics]\n",
    "\n",
    "    if include_label_wise_dice_coefficients and n_labels > 1:\n",
    "        label_wise_dice_metrics = [get_label_dice_coefficient_function(index) for index in range(n_labels)]\n",
    "        if metrics:\n",
    "            metrics = metrics + label_wise_dice_metrics\n",
    "        else:\n",
    "            metrics = label_wise_dice_metrics\n",
    "\n",
    "    model.compile(optimizer=Adam(lr=initial_learning_rate), loss=dice_coefficient_loss, metrics=metrics)\n",
    "    return model\n",
    "\n",
    "\n",
    "def create_convolution_block(input_layer, n_filters, batch_normalization=False, kernel=(3, 3, 3), activation=None,\n",
    "                             padding='same', strides=(1, 1, 1), instance_normalization=False):\n",
    "    \"\"\"\n",
    "    :param strides:\n",
    "    :param input_layer:\n",
    "    :param n_filters:\n",
    "    :param batch_normalization:\n",
    "    :param kernel:\n",
    "    :param activation: Keras activation layer to use. (default is 'relu')\n",
    "    :param padding:\n",
    "    :return:\n",
    "    \"\"\"\n",
    "    layer = Conv3D(n_filters, kernel, padding=padding, strides=strides)(input_layer)\n",
    "    if batch_normalization:\n",
    "        layer = BatchNormalization(axis=1)(layer)\n",
    "    elif instance_normalization:\n",
    "        try:\n",
    "            from keras_contrib.layers.normalization import InstanceNormalization\n",
    "        except ImportError:\n",
    "            raise ImportError(\"Install keras_contrib in order to use instance normalization.\"\n",
    "                              \"\\nTry: pip install git+https://www.github.com/farizrahman4u/keras-contrib.git\")\n",
    "        layer = InstanceNormalization(axis=1)(layer)\n",
    "    if activation is None:\n",
    "        return Activation('relu')(layer)\n",
    "    else:\n",
    "        return activation()(layer)\n",
    "\n",
    "\n",
    "def compute_level_output_shape(n_filters, depth, pool_size, image_shape):\n",
    "    \"\"\"\n",
    "    Each level has a particular output shape based on the number of filters used in that level and the depth or number \n",
    "    of max pooling operations that have been done on the data at that point.\n",
    "    :param image_shape: shape of the 3d image.\n",
    "    :param pool_size: the pool_size parameter used in the max pooling operation.\n",
    "    :param n_filters: Number of filters used by the last node in a given level.\n",
    "    :param depth: The number of levels down in the U-shaped model a given node is.\n",
    "    :return: 5D vector of the shape of the output node \n",
    "    \"\"\"\n",
    "    output_image_shape = np.asarray(np.divide(image_shape, np.power(pool_size, depth)), dtype=np.int32).tolist()\n",
    "    return tuple([None, n_filters] + output_image_shape)\n",
    "\n",
    "\n",
    "def get_up_convolution(n_filters, pool_size, kernel_size=(2, 2, 2), strides=(2, 2, 2),\n",
    "                       deconvolution=False):\n",
    "    if deconvolution:\n",
    "        return Deconvolution3D(filters=n_filters, kernel_size=kernel_size,\n",
    "                               strides=strides)\n",
    "    else:\n",
    "        return UpSampling3D(size=pool_size)\n",
    "\n",
    "\n",
    "\n",
    "\n",
    "\n",
    "\n",
    "\n",
    "create_convolution_block = partial(create_convolution_block, activation=LeakyReLU, instance_normalization=True)\n",
    "\n",
    "\n",
    "def isensee2017_model(input_shape=(1,144,144,144), n_base_filters=16, depth=5, dropout_rate=0.3,\n",
    "                      n_segmentation_levels=3, n_labels=4, optimizer=Adam, initial_learning_rate=5e-4,\n",
    "                      loss_function=weighted_dice_coefficient_loss, activation_name=\"sigmoid\"):\n",
    "    \"\"\"\n",
    "    This function builds a model proposed by Isensee et al. for the BRATS 2017 competition:\n",
    "    https://www.cbica.upenn.edu/sbia/Spyridon.Bakas/MICCAI_BraTS/MICCAI_BraTS_2017_proceedings_shortPapers.pdf\n",
    "    This network is highly similar to the model proposed by Kayalibay et al. \"CNN-based Segmentation of Medical\n",
    "    Imaging Data\", 2017: https://arxiv.org/pdf/1701.03056.pdf\n",
    "    :param input_shape:\n",
    "    :param n_base_filters:\n",
    "    :param depth:\n",
    "    :param dropout_rate:\n",
    "    :param n_segmentation_levels:\n",
    "    :param n_labels:\n",
    "    :param optimizer:\n",
    "    :param initial_learning_rate:\n",
    "    :param loss_function:\n",
    "    :param activation_name:\n",
    "    :return:\n",
    "    \"\"\"\n",
    "    inputs = Input(input_shape)\n",
    "\n",
    "    current_layer = inputs\n",
    "    level_output_layers = list()\n",
    "    level_filters = list()\n",
    "    for level_number in range(depth):\n",
    "        n_level_filters = (2**level_number) * n_base_filters\n",
    "        level_filters.append(n_level_filters)\n",
    "\n",
    "        if current_layer is inputs:\n",
    "            in_conv = create_convolution_block(current_layer, n_level_filters)\n",
    "        else:\n",
    "            in_conv = create_convolution_block(current_layer, n_level_filters, strides=(2, 2, 2))\n",
    "\n",
    "        context_output_layer = create_context_module(in_conv, n_level_filters, dropout_rate=dropout_rate)\n",
    "\n",
    "        summation_layer = Add()([in_conv, context_output_layer])\n",
    "        level_output_layers.append(summation_layer)\n",
    "        current_layer = summation_layer\n",
    "\n",
    "    segmentation_layers = list()\n",
    "    for level_number in range(depth - 2, -1, -1):\n",
    "        up_sampling = create_up_sampling_module(current_layer, level_filters[level_number])\n",
    "        concatenation_layer = concatenate([level_output_layers[level_number], up_sampling], axis=1)\n",
    "        localization_output = create_localization_module(concatenation_layer, level_filters[level_number])\n",
    "        current_layer = localization_output\n",
    "        if level_number < n_segmentation_levels:\n",
    "            segmentation_layers.insert(0, create_convolution_block(current_layer, n_filters=n_labels, kernel=(1, 1, 1)))\n",
    "\n",
    "    output_layer = None\n",
    "    for level_number in reversed(range(n_segmentation_levels)):\n",
    "        segmentation_layer = segmentation_layers[level_number]\n",
    "        if output_layer is None:\n",
    "            output_layer = segmentation_layer\n",
    "        else:\n",
    "            output_layer = Add()([output_layer, segmentation_layer])\n",
    "\n",
    "        if level_number > 0:\n",
    "            output_layer = UpSampling3D(size=(2, 2, 2))(output_layer)\n",
    "\n",
    "    activation_block = Activation(activation_name)(output_layer)\n",
    "\n",
    "    model = Model(inputs=inputs, outputs=activation_block)\n",
    "    model.compile(optimizer=optimizer(lr=initial_learning_rate), loss=loss_function)\n",
    "    return model\n",
    "\n",
    "\n",
    "def create_localization_module(input_layer, n_filters):\n",
    "    convolution1 = create_convolution_block(input_layer, n_filters)\n",
    "    convolution2 = create_convolution_block(convolution1, n_filters, kernel=(1, 1, 1))\n",
    "    return convolution2\n",
    "\n",
    "\n",
    "def create_up_sampling_module(input_layer, n_filters, size=(2, 2, 2)):\n",
    "    up_sample = UpSampling3D(size=size)(input_layer)\n",
    "    convolution = create_convolution_block(up_sample, n_filters)\n",
    "    return convolution\n",
    "\n",
    "\n",
    "def create_context_module(input_layer, n_level_filters, dropout_rate=0.3, data_format=\"channels_first\"):\n",
    "    convolution1 = create_convolution_block(input_layer=input_layer, n_filters=n_level_filters)\n",
    "    dropout = SpatialDropout3D(rate=dropout_rate, data_format=data_format)(convolution1)\n",
    "    convolution2 = create_convolution_block(input_layer=dropout, n_filters=n_level_filters)\n",
    "    return convolution2"
   ]
  },
  {
   "cell_type": "code",
   "execution_count": 3,
   "metadata": {
    "ExecuteTime": {
     "end_time": "2018-06-16T16:15:08.191305Z",
     "start_time": "2018-06-16T16:15:07.066321Z"
    },
    "collapsed": false
   },
   "outputs": [],
   "source": [
    "depth = 4\n",
    "filter_num = 16\n",
    "model = isensee2017_model(input_shape=(1, 144,144,144), n_base_filters=filter_num, depth=depth, dropout_rate=0.3,\n",
    "                      n_segmentation_levels=3, n_labels=4, optimizer=Adam, initial_learning_rate=5e-4,\n",
    "                      loss_function=weighted_dice_coefficient_loss, activation_name=\"sigmoid\")"
   ]
  },
  {
   "cell_type": "markdown",
   "metadata": {
    "ExecuteTime": {
     "end_time": "2018-06-15T20:10:10.456092Z",
     "start_time": "2018-06-15T20:10:10.453503Z"
    }
   },
   "source": [
    "## Make the labels and test train dictionaries:"
   ]
  },
  {
   "cell_type": "code",
   "execution_count": 4,
   "metadata": {
    "ExecuteTime": {
     "end_time": "2018-06-16T15:26:03.263358Z",
     "start_time": "2018-06-16T15:26:03.258725Z"
    },
    "collapsed": false
   },
   "outputs": [
    {
     "name": "stdout",
     "output_type": "stream",
     "text": [
      "210\n",
      "75\n"
     ]
    }
   ],
   "source": [
    "# from glob import glob\n",
    "# paths = glob('/Users/etheredgej/Desktop/MICCAI_BraTS17_Data_Training/train/HGG/*/')\n",
    "# print(paths)\n",
    "\n",
    "import os\n",
    "HGG_dir_list = next(os.walk('./HGG/'))[1]\n",
    "print(len(HGG_dir_list))\n",
    "LGG_dir_list = next(os.walk('./LGG/'))[1]\n",
    "print(len(LGG_dir_list))"
   ]
  },
  {
   "cell_type": "code",
   "execution_count": 5,
   "metadata": {
    "ExecuteTime": {
     "end_time": "2018-06-16T15:26:04.445596Z",
     "start_time": "2018-06-16T15:26:04.441500Z"
    },
    "collapsed": true
   },
   "outputs": [],
   "source": [
    "completelist = HGG_dir_list + LGG_dir_list\n",
    "# print(completelist[0:4])\n",
    "np.random.shuffle(completelist) # shuffles in place\n",
    "# print(completelist[0:4])\n",
    "\n",
    "partition={}\n",
    "train_percentage=0.7\n",
    "partition['train']=completelist[0:int(len(completelist)*train_percentage)]\n",
    "partition['test']=completelist[int(len(completelist)*train_percentage):len(completelist)]\n",
    "\n",
    "labels={}\n",
    "# HGG=0\n",
    "# LGG=1\n",
    "for directory in HGG_dir_list:\n",
    "    labels[directory]=0\n",
    "for directory in LGG_dir_list:\n",
    "    labels[directory]=1"
   ]
  },
  {
   "cell_type": "code",
   "execution_count": 6,
   "metadata": {
    "ExecuteTime": {
     "end_time": "2018-06-16T15:26:08.528728Z",
     "start_time": "2018-06-16T15:26:08.521708Z"
    },
    "collapsed": false
   },
   "outputs": [],
   "source": [
    "import numpy as np\n",
    "from nilearn.image.image import check_niimg\n",
    "from nilearn.image.image import _crop_img_to as crop_img_to\n",
    "\n",
    "\n",
    "def crop_img(img, rtol=1e-8, copy=True, return_slices=False):\n",
    "    \"\"\"Crops img as much as possible\n",
    "    Will crop img, removing as many zero entries as possible\n",
    "    without touching non-zero entries. Will leave one voxel of\n",
    "    zero padding around the obtained non-zero area in order to\n",
    "    avoid sampling issues later on.\n",
    "    Parameters\n",
    "    ----------\n",
    "    img: Niimg-like object\n",
    "        See http://nilearn.github.io/manipulating_images/input_output.html\n",
    "        img to be cropped.\n",
    "    rtol: float\n",
    "        relative tolerance (with respect to maximal absolute\n",
    "        value of the image), under which values are considered\n",
    "        negligeable and thus croppable.\n",
    "    copy: boolean\n",
    "        Specifies whether cropped data is copied or not.\n",
    "    return_slices: boolean\n",
    "        If True, the slices that define the cropped image will be returned.\n",
    "    Returns\n",
    "    -------\n",
    "    cropped_img: image\n",
    "        Cropped version of the input image\n",
    "    \"\"\"\n",
    "\n",
    "    img = check_niimg(img)\n",
    "    data = img.get_data()\n",
    "    infinity_norm = max(-data.min(), data.max())\n",
    "    passes_threshold = np.logical_or(data < -rtol * infinity_norm,\n",
    "                                     data > rtol * infinity_norm)\n",
    "\n",
    "    if data.ndim == 4:\n",
    "        passes_threshold = np.any(passes_threshold, axis=-1)\n",
    "    coords = np.array(np.where(passes_threshold))\n",
    "    start = coords.min(axis=1)\n",
    "    end = coords.max(axis=1) + 1\n",
    "\n",
    "    # pad with one voxel to avoid resampling problems\n",
    "    start = np.maximum(start - 1, 0)\n",
    "    end = np.minimum(end + 1, data.shape[:3])\n",
    "\n",
    "    slices = [slice(s, e) for s, e in zip(start, end)]\n",
    "\n",
    "    if return_slices:\n",
    "        return slices\n",
    "\n",
    "    return crop_img_to(img, slices, copy=copy)"
   ]
  },
  {
   "cell_type": "markdown",
   "metadata": {},
   "source": [
    "### Cropping function:"
   ]
  },
  {
   "cell_type": "code",
   "execution_count": 7,
   "metadata": {
    "collapsed": true
   },
   "outputs": [],
   "source": [
    "import operator\n",
    "def cropND(img, bounding):\n",
    "    start = tuple(map(lambda a, da: a//2-da//2, img.shape, bounding))\n",
    "    end = tuple(map(operator.add, start, bounding))\n",
    "    slices = tuple(map(slice, start, end))\n",
    "    return img[slices]\n"
   ]
  },
  {
   "cell_type": "markdown",
   "metadata": {},
   "source": [
    "### Testing crop_img:"
   ]
  },
  {
   "cell_type": "code",
   "execution_count": 8,
   "metadata": {
    "ExecuteTime": {
     "end_time": "2018-06-16T15:26:09.548208Z",
     "start_time": "2018-06-16T15:26:09.545553Z"
    },
    "collapsed": true
   },
   "outputs": [],
   "source": [
    "# import nibabel as nib\n",
    "# shapes=[]"
   ]
  },
  {
   "cell_type": "code",
   "execution_count": 9,
   "metadata": {
    "ExecuteTime": {
     "end_time": "2018-06-16T16:06:09.036028Z",
     "start_time": "2018-06-16T16:06:07.202559Z"
    },
    "collapsed": false
   },
   "outputs": [
    {
     "name": "stdout",
     "output_type": "stream",
     "text": [
      "(1, 144, 144, 144)\n"
     ]
    }
   ],
   "source": [
    "# # for patient in completelist:\n",
    "# #     for extension in ['t1','flair','seg','t2','t1ce']:\n",
    "# #         img = nib.load(\"/Users/etheredgej/Desktop/MICCAI_BraTS17_Data_Training/data/\"+patient+'_'+extension+\".nii.gz\")\n",
    "# #         a = np.array(img.dataobj)\n",
    "# #         # print(a.shape)\n",
    "# #         # print(np.unique(a))\n",
    "# #         # a = np.expand_dims(a, axis=0)\n",
    "# #         # print(a.shape)\n",
    "# #         cropped = crop_img(img)\n",
    "# #         a = np.array(cropped.dataobj)\n",
    "# #         shapes.append(list(a.shape))\n",
    "# #         # print(shapes)\n",
    "# # print(max([shape[0] for shape in shapes])) # 159\n",
    "# # print(max([shape[1] for shape in shapes])) # 191\n",
    "# # print(max([shape[2] for shape in shapes])) # 150\n",
    "\n",
    "# ID = completelist[0]\n",
    "# img1 = './data/' + ID + '_flair.nii.gz'\n",
    "# img2 = './data/' + ID + '_t1.nii.gz'\n",
    "# img3 = './data/' + ID + '_t1ce.nii.gz'\n",
    "# img4 = './data/' + ID + '_t2.nii.gz'\n",
    "#             #         img = nib.load(\"/Users/etheredgej/Desktop/MICCAI_BraTS17_Data_Training/data/\"+patient+'_'+extension+\".nii.gz\")\n",
    "# #         a = np.array(img.dataobj)\n",
    "# #         # print(a.shape)\n",
    "# #         # print(np.unique(a))\n",
    "# #         # a = np.expand_dims(a, axis=0)\n",
    "# #         # print(a.shape)\n",
    "# newimage = nib.concat_images([img1, img2, img3, img4])\n",
    "# cropped = crop_img(newimage)         \n",
    "# img_array = np.array(cropped.dataobj)\n",
    "# b = np.rollaxis(img_array, 3, 0)\n",
    "# b.shape\n",
    "\n",
    "# result = np.zeros((4,160,192,160))\n",
    "# result[:b.shape[0],:b.shape[1],:b.shape[2],:b.shape[3]] = b\n",
    "\n",
    "# result\n",
    "# max(set(np.unique(result)))\n",
    "# # print(result[2][50][50])\n",
    "\n",
    "# ID = completelist[0]\n",
    "# imgpath = './data/' + ID + '_flair.nii.gz'\n",
    "# img = nib.load(imgpath)\n",
    "# cropped = crop_img(img)\n",
    "# img_array = np.array(cropped.dataobj)\n",
    "# b = np.expand_dims(img_array, axis=0)\n",
    "# result = np.zeros((1,144,144,144))\n",
    "# result[:b.shape[0],:b.shape[1],:b.shape[2],:b.shape[3]] = b\n",
    "# result.shape\n",
    "# np.unique(result)\n",
    "\n",
    "ID = completelist[0]\n",
    "imgpath = './data/' + ID + '_flair.nii.gz'\n",
    "img = nib.load(imgpath)\n",
    "img_array = np.array(img.dataobj)\n",
    "img_array = cropND(img_array, (144,144,144))\n",
    "b = np.expand_dims(img_array, axis=0)\n",
    "# result = np.zeros((1,144,144,144))\n",
    "# result[:b.shape[0],:b.shape[1],:b.shape[2],:b.shape[3]] = b\n",
    "print(b.shape)\n",
    "# print(np.unique(b))\n"
   ]
  },
  {
   "cell_type": "markdown",
   "metadata": {},
   "source": [
    "### Data generator:"
   ]
  },
  {
   "cell_type": "code",
   "execution_count": 10,
   "metadata": {
    "ExecuteTime": {
     "end_time": "2018-06-16T16:12:14.451690Z",
     "start_time": "2018-06-16T16:12:14.441564Z"
    },
    "collapsed": true
   },
   "outputs": [],
   "source": [
    "import numpy as np\n",
    "import keras\n",
    "import nibabel as nib\n",
    "\n",
    "class DataGenerator(keras.utils.Sequence):\n",
    "    'Generates data for Keras'\n",
    "    def __init__(self, list_IDs, labels, batch_size=1, dim=(144,144,144), n_channels=1,\n",
    "                 n_classes=4, shuffle=True):\n",
    "        'Initialization'\n",
    "        self.dim = dim\n",
    "        self.batch_size = batch_size\n",
    "        self.labels = labels\n",
    "        self.list_IDs = list_IDs\n",
    "        self.n_channels = n_channels\n",
    "        self.n_classes = n_classes\n",
    "        self.shuffle = shuffle\n",
    "        self.on_epoch_end()\n",
    "\n",
    "    def __len__(self):\n",
    "        'Denotes the number of batches per epoch'\n",
    "        return int(np.floor(len(self.list_IDs) / self.batch_size))\n",
    "\n",
    "    def __getitem__(self, index):\n",
    "        'Generate one batch of data'\n",
    "        # Generate indexes of the batch\n",
    "        indexes = self.indexes[index*self.batch_size:(index+1)*self.batch_size]\n",
    "\n",
    "        # Find list of IDs\n",
    "        list_IDs_temp = [self.list_IDs[k] for k in indexes]\n",
    "\n",
    "        # Generate data\n",
    "        X, y = self.__data_generation(list_IDs_temp)\n",
    "\n",
    "        return X, y\n",
    "\n",
    "    def on_epoch_end(self):\n",
    "        'Updates indexes after each epoch'\n",
    "        self.indexes = np.arange(len(self.list_IDs))\n",
    "        if self.shuffle == True:\n",
    "            np.random.shuffle(self.indexes)\n",
    "\n",
    "    def __data_generation(self, list_IDs_temp):\n",
    "        'Generates data containing batch_size samples' # X : (n_samples, *dim, n_channels)\n",
    "        # Initialization\n",
    "        X = np.empty((self.batch_size, self.n_channels, *self.dim))\n",
    "        y = np.empty((self.batch_size, 1, *self.dim))\n",
    "\n",
    "        # Generate data\n",
    "        # Decode and load the data\n",
    "        for i, ID in enumerate(list_IDs_temp):\n",
    "            # Store sample\n",
    "#             X[i,] = np.load('data/' + ID + '.npy')\n",
    "\n",
    "#             imgpath = '/Users/etheredgej/Desktop/MICCAI_BraTS17_Data_Training/data/' + ID + '_flair.nii.gz'\n",
    "#             img = nib.load(imgpath)\n",
    "#             img_array = np.array(img.dataobj)\n",
    "#             X[i,] = np.expand_dims(img_array, axis=0)\n",
    "\n",
    "            img1 = './data/' + ID + '_flair.nii.gz'\n",
    "            img2 = './data/' + ID + '_t1.nii.gz'\n",
    "            img3 = './data/' + ID + '_t1ce.nii.gz'\n",
    "            img4 = './data/' + ID + '_t2.nii.gz'\n",
    "            #         img = nib.load(\"/Users/etheredgej/Desktop/MICCAI_BraTS17_Data_Training/data/\"+patient+'_'+extension+\".nii.gz\")\n",
    "#         a = np.array(img.dataobj)\n",
    "#         # print(a.shape)\n",
    "#         # print(np.unique(a))\n",
    "#         # a = np.expand_dims(a, axis=0)\n",
    "#         # print(a.shape)\n",
    "#         cropped = crop_img(img)\n",
    "#         a = np.array(cropped.dataobj)\n",
    "#         shapes.append(list(a.shape))\n",
    "#         # print(shapes)\n",
    "#             newimage = nib.concat_images([img1, img2, img3, img4])\n",
    "#             img_array = np.array(newimage.dataobj)\n",
    "#             X[i,] = np.rollaxis(img_array, 3, 0)\n",
    "\n",
    "#             # 4 channel with crop\n",
    "#             newimage = nib.concat_images([img1, img2, img3, img4])\n",
    "#             cropped = crop_img(newimage)         \n",
    "#             img_array = np.array(cropped.dataobj)\n",
    "#             b = np.rollaxis(img_array, 3, 0)\n",
    "\n",
    "#             result = np.zeros((4,160,192,160))\n",
    "#             result[:b.shape[0],:b.shape[1],:b.shape[2],:b.shape[3]] = b\n",
    "\n",
    "#             X[i,] = result\n",
    "#             X[i,] = np.expand_dims(img_array, axis=0)\n",
    "\n",
    "            # single channel with crop beyond zeros (crop to center)\n",
    "            img = nib.load(img1)\n",
    "            img_array = np.array(img.dataobj)\n",
    "            img_array = cropND(img_array, (144,144,144))\n",
    "            X[i,] = np.expand_dims(img_array, axis=0)\n",
    "\n",
    "            # y\n",
    "            # crop single channel (segmentation)\n",
    "            imgpath = './data/' + ID + '_seg.nii.gz'\n",
    "            img_array = np.array(img.dataobj)\n",
    "            img_array = cropND(img_array, (144,144,144))\n",
    "            y[i,] = np.expand_dims(img_array, axis=0)    \n",
    "            \n",
    "#         return X, keras.utils.to_categorical(y, num_classes=self.n_classes)\n",
    "        return X, y"
   ]
  },
  {
   "cell_type": "code",
   "execution_count": null,
   "metadata": {
    "collapsed": true
   },
   "outputs": [],
   "source": []
  },
  {
   "cell_type": "code",
   "execution_count": null,
   "metadata": {
    "ExecuteTime": {
     "start_time": "2018-06-16T16:15:14.331Z"
    },
    "collapsed": false
   },
   "outputs": [
    {
     "name": "stderr",
     "output_type": "stream",
     "text": [
      "/home/ubuntu/anaconda3/lib/python3.5/site-packages/ipykernel/__main__.py:35: UserWarning: The semantics of the Keras 2 argument `steps_per_epoch` is not the same as the Keras 1 argument `samples_per_epoch`. `steps_per_epoch` is the number of batches to draw from the generator at each epoch. Basically steps_per_epoch = samples_per_epoch/batch_size. Similarly `nb_val_samples`->`validation_steps` and `val_samples`->`steps` arguments have changed. Update your method calls accordingly.\n",
      "/home/ubuntu/anaconda3/lib/python3.5/site-packages/ipykernel/__main__.py:35: UserWarning: Update your `fit_generator` call to the Keras 2 API: `fit_generator(generator=<__main__...., epochs=5, workers=4, validation_data=<__main__....)`\n"
     ]
    },
    {
     "name": "stdout",
     "output_type": "stream",
     "text": [
      "Epoch 1/5\n",
      " 11/199 [>.............................] - ETA: 37:15 - loss: -1.7352"
     ]
    },
    {
     "ename": "KeyboardInterrupt",
     "evalue": "",
     "output_type": "error",
     "traceback": [
      "\u001b[0;31m---------------------------------------------------------------------------\u001b[0m",
      "\u001b[0;31mKeyboardInterrupt\u001b[0m                         Traceback (most recent call last)",
      "\u001b[0;32m<ipython-input-11-e1ee38351eda>\u001b[0m in \u001b[0;36m<module>\u001b[0;34m()\u001b[0m\n\u001b[1;32m     33\u001b[0m                     \u001b[0mvalidation_data\u001b[0m\u001b[0;34m=\u001b[0m\u001b[0mvalidation_generator\u001b[0m\u001b[0;34m,\u001b[0m\u001b[0;34m\u001b[0m\u001b[0m\n\u001b[1;32m     34\u001b[0m                    \u001b[0mepochs\u001b[0m\u001b[0;34m=\u001b[0m\u001b[0;36m5\u001b[0m\u001b[0;34m,\u001b[0m\u001b[0;34m\u001b[0m\u001b[0m\n\u001b[0;32m---> 35\u001b[0;31m                    nb_worker=4)\n\u001b[0m\u001b[1;32m     36\u001b[0m \u001b[0;34m\u001b[0m\u001b[0m\n\u001b[1;32m     37\u001b[0m \u001b[0;31m# model.fit_generator(\u001b[0m\u001b[0;34m\u001b[0m\u001b[0;34m\u001b[0m\u001b[0m\n",
      "\u001b[0;32m/home/ubuntu/anaconda3/lib/python3.5/site-packages/keras/legacy/interfaces.py\u001b[0m in \u001b[0;36mwrapper\u001b[0;34m(*args, **kwargs)\u001b[0m\n\u001b[1;32m     89\u001b[0m                 warnings.warn('Update your `' + object_name +\n\u001b[1;32m     90\u001b[0m                               '` call to the Keras 2 API: ' + signature, stacklevel=2)\n\u001b[0;32m---> 91\u001b[0;31m             \u001b[0;32mreturn\u001b[0m \u001b[0mfunc\u001b[0m\u001b[0;34m(\u001b[0m\u001b[0;34m*\u001b[0m\u001b[0margs\u001b[0m\u001b[0;34m,\u001b[0m \u001b[0;34m**\u001b[0m\u001b[0mkwargs\u001b[0m\u001b[0;34m)\u001b[0m\u001b[0;34m\u001b[0m\u001b[0m\n\u001b[0m\u001b[1;32m     92\u001b[0m         \u001b[0mwrapper\u001b[0m\u001b[0;34m.\u001b[0m\u001b[0m_original_function\u001b[0m \u001b[0;34m=\u001b[0m \u001b[0mfunc\u001b[0m\u001b[0;34m\u001b[0m\u001b[0m\n\u001b[1;32m     93\u001b[0m         \u001b[0;32mreturn\u001b[0m \u001b[0mwrapper\u001b[0m\u001b[0;34m\u001b[0m\u001b[0m\n",
      "\u001b[0;32m/home/ubuntu/anaconda3/lib/python3.5/site-packages/keras/engine/training.py\u001b[0m in \u001b[0;36mfit_generator\u001b[0;34m(self, generator, steps_per_epoch, epochs, verbose, callbacks, validation_data, validation_steps, class_weight, max_queue_size, workers, use_multiprocessing, shuffle, initial_epoch)\u001b[0m\n\u001b[1;32m   1424\u001b[0m             \u001b[0muse_multiprocessing\u001b[0m\u001b[0;34m=\u001b[0m\u001b[0muse_multiprocessing\u001b[0m\u001b[0;34m,\u001b[0m\u001b[0;34m\u001b[0m\u001b[0m\n\u001b[1;32m   1425\u001b[0m             \u001b[0mshuffle\u001b[0m\u001b[0;34m=\u001b[0m\u001b[0mshuffle\u001b[0m\u001b[0;34m,\u001b[0m\u001b[0;34m\u001b[0m\u001b[0m\n\u001b[0;32m-> 1426\u001b[0;31m             initial_epoch=initial_epoch)\n\u001b[0m\u001b[1;32m   1427\u001b[0m \u001b[0;34m\u001b[0m\u001b[0m\n\u001b[1;32m   1428\u001b[0m     \u001b[0;34m@\u001b[0m\u001b[0minterfaces\u001b[0m\u001b[0;34m.\u001b[0m\u001b[0mlegacy_generator_methods_support\u001b[0m\u001b[0;34m\u001b[0m\u001b[0m\n",
      "\u001b[0;32m/home/ubuntu/anaconda3/lib/python3.5/site-packages/keras/engine/training_generator.py\u001b[0m in \u001b[0;36mfit_generator\u001b[0;34m(model, generator, steps_per_epoch, epochs, verbose, callbacks, validation_data, validation_steps, class_weight, max_queue_size, workers, use_multiprocessing, shuffle, initial_epoch)\u001b[0m\n\u001b[1;32m    189\u001b[0m                 outs = model.train_on_batch(x, y,\n\u001b[1;32m    190\u001b[0m                                             \u001b[0msample_weight\u001b[0m\u001b[0;34m=\u001b[0m\u001b[0msample_weight\u001b[0m\u001b[0;34m,\u001b[0m\u001b[0;34m\u001b[0m\u001b[0m\n\u001b[0;32m--> 191\u001b[0;31m                                             class_weight=class_weight)\n\u001b[0m\u001b[1;32m    192\u001b[0m \u001b[0;34m\u001b[0m\u001b[0m\n\u001b[1;32m    193\u001b[0m                 \u001b[0;32mif\u001b[0m \u001b[0;32mnot\u001b[0m \u001b[0misinstance\u001b[0m\u001b[0;34m(\u001b[0m\u001b[0mouts\u001b[0m\u001b[0;34m,\u001b[0m \u001b[0mlist\u001b[0m\u001b[0;34m)\u001b[0m\u001b[0;34m:\u001b[0m\u001b[0;34m\u001b[0m\u001b[0m\n",
      "\u001b[0;32m/home/ubuntu/anaconda3/lib/python3.5/site-packages/keras/engine/training.py\u001b[0m in \u001b[0;36mtrain_on_batch\u001b[0;34m(self, x, y, sample_weight, class_weight)\u001b[0m\n\u001b[1;32m   1218\u001b[0m             \u001b[0mins\u001b[0m \u001b[0;34m=\u001b[0m \u001b[0mx\u001b[0m \u001b[0;34m+\u001b[0m \u001b[0my\u001b[0m \u001b[0;34m+\u001b[0m \u001b[0msample_weights\u001b[0m\u001b[0;34m\u001b[0m\u001b[0m\n\u001b[1;32m   1219\u001b[0m         \u001b[0mself\u001b[0m\u001b[0;34m.\u001b[0m\u001b[0m_make_train_function\u001b[0m\u001b[0;34m(\u001b[0m\u001b[0;34m)\u001b[0m\u001b[0;34m\u001b[0m\u001b[0m\n\u001b[0;32m-> 1220\u001b[0;31m         \u001b[0moutputs\u001b[0m \u001b[0;34m=\u001b[0m \u001b[0mself\u001b[0m\u001b[0;34m.\u001b[0m\u001b[0mtrain_function\u001b[0m\u001b[0;34m(\u001b[0m\u001b[0mins\u001b[0m\u001b[0;34m)\u001b[0m\u001b[0;34m\u001b[0m\u001b[0m\n\u001b[0m\u001b[1;32m   1221\u001b[0m         \u001b[0;32mif\u001b[0m \u001b[0mlen\u001b[0m\u001b[0;34m(\u001b[0m\u001b[0moutputs\u001b[0m\u001b[0;34m)\u001b[0m \u001b[0;34m==\u001b[0m \u001b[0;36m1\u001b[0m\u001b[0;34m:\u001b[0m\u001b[0;34m\u001b[0m\u001b[0m\n\u001b[1;32m   1222\u001b[0m             \u001b[0;32mreturn\u001b[0m \u001b[0moutputs\u001b[0m\u001b[0;34m[\u001b[0m\u001b[0;36m0\u001b[0m\u001b[0;34m]\u001b[0m\u001b[0;34m\u001b[0m\u001b[0m\n",
      "\u001b[0;32m/home/ubuntu/anaconda3/lib/python3.5/site-packages/keras/backend/tensorflow_backend.py\u001b[0m in \u001b[0;36m__call__\u001b[0;34m(self, inputs)\u001b[0m\n\u001b[1;32m   2659\u001b[0m                 \u001b[0;32mreturn\u001b[0m \u001b[0mself\u001b[0m\u001b[0;34m.\u001b[0m\u001b[0m_legacy_call\u001b[0m\u001b[0;34m(\u001b[0m\u001b[0minputs\u001b[0m\u001b[0;34m)\u001b[0m\u001b[0;34m\u001b[0m\u001b[0m\n\u001b[1;32m   2660\u001b[0m \u001b[0;34m\u001b[0m\u001b[0m\n\u001b[0;32m-> 2661\u001b[0;31m             \u001b[0;32mreturn\u001b[0m \u001b[0mself\u001b[0m\u001b[0;34m.\u001b[0m\u001b[0m_call\u001b[0m\u001b[0;34m(\u001b[0m\u001b[0minputs\u001b[0m\u001b[0;34m)\u001b[0m\u001b[0;34m\u001b[0m\u001b[0m\n\u001b[0m\u001b[1;32m   2662\u001b[0m         \u001b[0;32melse\u001b[0m\u001b[0;34m:\u001b[0m\u001b[0;34m\u001b[0m\u001b[0m\n\u001b[1;32m   2663\u001b[0m             \u001b[0;32mif\u001b[0m \u001b[0mpy_any\u001b[0m\u001b[0;34m(\u001b[0m\u001b[0mis_tensor\u001b[0m\u001b[0;34m(\u001b[0m\u001b[0mx\u001b[0m\u001b[0;34m)\u001b[0m \u001b[0;32mfor\u001b[0m \u001b[0mx\u001b[0m \u001b[0;32min\u001b[0m \u001b[0minputs\u001b[0m\u001b[0;34m)\u001b[0m\u001b[0;34m:\u001b[0m\u001b[0;34m\u001b[0m\u001b[0m\n",
      "\u001b[0;32m/home/ubuntu/anaconda3/lib/python3.5/site-packages/keras/backend/tensorflow_backend.py\u001b[0m in \u001b[0;36m_call\u001b[0;34m(self, inputs)\u001b[0m\n\u001b[1;32m   2629\u001b[0m                                 \u001b[0msymbol_vals\u001b[0m\u001b[0;34m,\u001b[0m\u001b[0;34m\u001b[0m\u001b[0m\n\u001b[1;32m   2630\u001b[0m                                 session)\n\u001b[0;32m-> 2631\u001b[0;31m         \u001b[0mfetched\u001b[0m \u001b[0;34m=\u001b[0m \u001b[0mself\u001b[0m\u001b[0;34m.\u001b[0m\u001b[0m_callable_fn\u001b[0m\u001b[0;34m(\u001b[0m\u001b[0;34m*\u001b[0m\u001b[0marray_vals\u001b[0m\u001b[0;34m)\u001b[0m\u001b[0;34m\u001b[0m\u001b[0m\n\u001b[0m\u001b[1;32m   2632\u001b[0m         \u001b[0;32mreturn\u001b[0m \u001b[0mfetched\u001b[0m\u001b[0;34m[\u001b[0m\u001b[0;34m:\u001b[0m\u001b[0mlen\u001b[0m\u001b[0;34m(\u001b[0m\u001b[0mself\u001b[0m\u001b[0;34m.\u001b[0m\u001b[0moutputs\u001b[0m\u001b[0;34m)\u001b[0m\u001b[0;34m]\u001b[0m\u001b[0;34m\u001b[0m\u001b[0m\n\u001b[1;32m   2633\u001b[0m \u001b[0;34m\u001b[0m\u001b[0m\n",
      "\u001b[0;32m/home/ubuntu/anaconda3/lib/python3.5/site-packages/tensorflow/python/client/session.py\u001b[0m in \u001b[0;36m__call__\u001b[0;34m(self, *args)\u001b[0m\n\u001b[1;32m   1449\u001b[0m         \u001b[0;32mif\u001b[0m \u001b[0mself\u001b[0m\u001b[0;34m.\u001b[0m\u001b[0m_session\u001b[0m\u001b[0;34m.\u001b[0m\u001b[0m_created_with_new_api\u001b[0m\u001b[0;34m:\u001b[0m\u001b[0;34m\u001b[0m\u001b[0m\n\u001b[1;32m   1450\u001b[0m           return tf_session.TF_SessionRunCallable(\n\u001b[0;32m-> 1451\u001b[0;31m               self._session._session, self._handle, args, status, None)\n\u001b[0m\u001b[1;32m   1452\u001b[0m         \u001b[0;32melse\u001b[0m\u001b[0;34m:\u001b[0m\u001b[0;34m\u001b[0m\u001b[0m\n\u001b[1;32m   1453\u001b[0m           return tf_session.TF_DeprecatedSessionRunCallable(\n",
      "\u001b[0;31mKeyboardInterrupt\u001b[0m: "
     ]
    }
   ],
   "source": [
    "import numpy as np\n",
    "\n",
    "from keras.models import Sequential\n",
    "# from my_classes import DataGenerator\n",
    "\n",
    "# Parameters\n",
    "params = {'dim': (144,144,144),\n",
    "          'batch_size': 1,\n",
    "          'n_classes': 4,\n",
    "          'n_channels': 1,\n",
    "          'shuffle': True}\n",
    "\n",
    "# # Datasets\n",
    "# partition = # IDs\n",
    "# labels = # Labels\n",
    "\n",
    "# Generators\n",
    "training_generator = DataGenerator(partition['train'], labels, **params)\n",
    "validation_generator = DataGenerator(partition['test'], labels, **params)\n",
    "\n",
    "# # Design model\n",
    "# model = Sequential()\n",
    "# [...] # Architecture\n",
    "# model.compile()\n",
    "\n",
    "# Train model on dataset\n",
    "# model.fit_generator(generator=training_generator,\n",
    "#                     validation_data=validation_generator,\n",
    "#                     use_multiprocessing=True,\n",
    "#                     workers=4)\n",
    "\n",
    "model.fit_generator(generator=training_generator,\n",
    "                    validation_data=validation_generator,\n",
    "                   epochs=5, \n",
    "                   nb_worker=4)\n",
    "\n",
    "# model.fit_generator(\n",
    "#         generator=training_generator,\n",
    "#         samples_per_epoch=2,\n",
    "#         steps_per_epoch=2000,\n",
    "#         epochs=50,\n",
    "#         validation_data=validation_generator,\n",
    "#         nb_worker=1,\n",
    "#         validation_steps=800)"
   ]
  },
  {
   "cell_type": "code",
   "execution_count": null,
   "metadata": {
    "collapsed": false
   },
   "outputs": [],
   "source": [
    "# score = model.evaluate(x_test, y_test, verbose=0)\n",
    "\n",
    "score = model.evaluate_generator(generator=validation_generator)\n",
    "# print('Test loss:', score[0])\n",
    "# print('Test accuracy:', score[1])\n",
    "score"
   ]
  },
  {
   "cell_type": "code",
   "execution_count": null,
   "metadata": {
    "collapsed": false
   },
   "outputs": [],
   "source": [
    "285*.3"
   ]
  },
  {
   "cell_type": "code",
   "execution_count": null,
   "metadata": {
    "collapsed": false
   },
   "outputs": [],
   "source": [
    "# score = model.evaluate(x_test, y_test, verbose=0)\n",
    "\n",
    "prediction = model.predict_generator(generator=validation_generator)\n",
    "# print('Test loss:', score[0])\n",
    "# print('Test accuracy:', score[1])\n",
    "prediction"
   ]
  },
  {
   "cell_type": "code",
   "execution_count": null,
   "metadata": {
    "collapsed": false
   },
   "outputs": [],
   "source": [
    "prediction.shape"
   ]
  },
  {
   "cell_type": "code",
   "execution_count": null,
   "metadata": {
    "collapsed": true
   },
   "outputs": [],
   "source": [
    "# ! conda install libgcc"
   ]
  }
 ],
 "metadata": {
  "anaconda-cloud": {},
  "kernelspec": {
   "display_name": "Python [default]",
   "language": "python",
   "name": "python3"
  },
  "language_info": {
   "codemirror_mode": {
    "name": "ipython",
    "version": 3
   },
   "file_extension": ".py",
   "mimetype": "text/x-python",
   "name": "python",
   "nbconvert_exporter": "python",
   "pygments_lexer": "ipython3",
   "version": "3.5.2"
  }
 },
 "nbformat": 4,
 "nbformat_minor": 2
}
